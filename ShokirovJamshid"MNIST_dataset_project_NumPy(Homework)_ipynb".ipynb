{
  "cells": [
    {
      "cell_type": "markdown",
      "metadata": {
        "id": "view-in-github",
        "colab_type": "text"
      },
      "source": [
        "<a href=\"https://colab.research.google.com/github/shokirovjamshid/MNIST_dataset_project/blob/main/ShokirovJamshid%22MNIST_dataset_project_NumPy(Homework)_ipynb%22.ipynb\" target=\"_parent\"><img src=\"https://colab.research.google.com/assets/colab-badge.svg\" alt=\"Open In Colab\"/></a>"
      ]
    },
    {
      "cell_type": "markdown",
      "metadata": {
        "id": "rW9o0WS8Whxk"
      },
      "source": [
        "### Project"
      ]
    },
    {
      "cell_type": "code",
      "execution_count": null,
      "metadata": {
        "colab": {
          "base_uri": "https://localhost:8080/"
        },
        "id": "MM0G_CBpU7p6",
        "outputId": "1a9cee50-6980-4ad5-f9cc-ebfe3eb45a81"
      },
      "outputs": [
        {
          "output_type": "stream",
          "name": "stdout",
          "text": [
            "--2023-06-20 09:13:01--  https://pjreddie.com/media/files/mnist_test.csv\n",
            "Resolving pjreddie.com (pjreddie.com)... 128.208.4.108\n",
            "Connecting to pjreddie.com (pjreddie.com)|128.208.4.108|:443... connected.\n",
            "HTTP request sent, awaiting response... 200 OK\n",
            "Length: 18289443 (17M) [application/octet-stream]\n",
            "Saving to: ‘mnist_test.csv.1’\n",
            "\n",
            "mnist_test.csv.1    100%[===================>]  17.44M  40.6MB/s    in 0.4s    \n",
            "\n",
            "2023-06-20 09:13:02 (40.6 MB/s) - ‘mnist_test.csv.1’ saved [18289443/18289443]\n",
            "\n"
          ]
        }
      ],
      "source": [
        "!wget https://pjreddie.com/media/files/mnist_test.csv"
      ]
    },
    {
      "cell_type": "markdown",
      "metadata": {
        "id": "5hqtIDJ6XIJ_"
      },
      "source": [
        "### `mnist_test.csv` fayilni yuklab oling.\n",
        "\n",
        "MNIST - **Modified National Institute of Standards and Technology** ma'lumotlar bazasining qisqartmasi. MNIST 0 dan 9 gacha bo'lgan qo'lda yozilgan raqamlarning **70 000** ta, **28 x 28** o'lchamdagi rasmlari to'plamini o'z ichiga oladi.\n",
        "\n",
        "Bu datasetda esa test uchun **10 000** ta rasm mavjud.\n",
        "\n",
        "Numpy **loadtxt()** funktsiyasi yordamida ma'lumotlarni tahrirlang."
      ]
    },
    {
      "cell_type": "code",
      "execution_count": null,
      "metadata": {
        "id": "4CyHUrUPXYXT"
      },
      "outputs": [],
      "source": [
        "import matplotlib.pyplot as plt\n",
        "import csv\n",
        "plt.rcParams['xtick.bottom'] = plt.rcParams['xtick.labelbottom'] = False\n",
        "plt.rcParams['xtick.top'] = plt.rcParams['xtick.labeltop'] = False\n",
        "plt.rcParams['ytick.left'] = plt.rcParams['ytick.labelleft'] = False"
      ]
    },
    {
      "cell_type": "code",
      "execution_count": null,
      "metadata": {
        "id": "M6-eW8PWXjLX"
      },
      "outputs": [],
      "source": [
        "filename = 'mnist_test.csv'"
      ]
    },
    {
      "cell_type": "code",
      "execution_count": null,
      "metadata": {
        "id": "VCvkITICVBs9"
      },
      "outputs": [],
      "source": [
        "from re import S\n",
        "def get_data(filename):\n",
        "  '''\n",
        "  Load and separete the data using the numpy loadtxt() function.\n",
        "\n",
        "  Parametrs:\n",
        "    str: filename\n",
        "  returns:\n",
        "    Tuple : label.shape=(10000,),data.shape=(10000, 28, 28)\n",
        "  '''\n",
        "  # WRITE YOUR CODE HERE\n",
        "  f = open(filename)\n",
        "  data = csv.reader(f)\n",
        "  label = []\n",
        "  data1 = []\n",
        "  for i in data:\n",
        "    label.append(int(i[0]))\n",
        "    s=(list(map(int,i[1:])))\n",
        "    t=0\n",
        "    d = []\n",
        "    for n in range(28):\n",
        "      d.append(s[0+t:28+t])\n",
        "      t+=28\n",
        "    data1.append(d)\n",
        "  return label,data1"
      ]
    },
    {
      "cell_type": "code",
      "execution_count": null,
      "metadata": {
        "id": "jFSLUPoDZTK5",
        "colab": {
          "base_uri": "https://localhost:8080/"
        },
        "outputId": "0c887037-b512-48fd-b8ae-2c2c99d7b200"
      },
      "outputs": [
        {
          "output_type": "stream",
          "name": "stdout",
          "text": [
            "28\n"
          ]
        }
      ],
      "source": [
        "label,data = get_data(filename)\n",
        "print(len(data[0]))"
      ]
    },
    {
      "cell_type": "code",
      "execution_count": null,
      "metadata": {
        "colab": {
          "base_uri": "https://localhost:8080/",
          "height": 405
        },
        "id": "nuyYfeQ4ZW3m",
        "outputId": "da930b96-50be-4ce8-9c0a-d8b3da6a71d8"
      },
      "outputs": [
        {
          "output_type": "display_data",
          "data": {
            "text/plain": [
              "<Figure size 640x480 with 15 Axes>"
            ],
            "image/png": "[encoded data removed]"
          },
          "metadata": {}
        }
      ],
      "source": [
        "def data_imshow(label,data):\n",
        "  '''\n",
        "  Show the dataset in one figure with\n",
        "\n",
        "  Parameters:\n",
        "    numpy array: numbers and label from the dataset\n",
        "  '''\n",
        "  # WRITE YOUR CODE HERE\n",
        "  for i in range(15):\n",
        "    plt.subplot(3,5,i+1)\n",
        "    plt.imshow(data[i],cmap=\"gray\")\n",
        "    plt.title(f\"label-{label[i]}\")\n",
        "  plt.show()\n",
        "\n",
        "data_imshow(label,data)"
      ]
    },
    {
      "cell_type": "code",
      "source": [
        "a = []\n",
        "for i in range(3):\n",
        "  b=[]\n",
        "  for n in range(4):\n",
        "    b.append(n)\n",
        "  a.append(b)\n",
        "print(a)"
      ],
      "metadata": {
        "colab": {
          "base_uri": "https://localhost:8080/"
        },
        "id": "4chpIFkQ95Jb",
        "outputId": "ab4c88cb-2166-4886-dcb8-a91c07fefa91"
      },
      "execution_count": null,
      "outputs": [
        {
          "output_type": "stream",
          "name": "stdout",
          "text": [
            "[[0, 1, 2, 3], [0, 1, 2, 3], [0, 1, 2, 3]]\n"
          ]
        }
      ]
    }
  ],
  "metadata": {
    "colab": {
      "provenance": [],
      "include_colab_link": true
    },
    "kernelspec": {
      "display_name": "Python 3",
      "name": "python3"
    },
    "language_info": {
      "name": "python"
    }
  },
  "nbformat": 4,
  "nbformat_minor": 0
}